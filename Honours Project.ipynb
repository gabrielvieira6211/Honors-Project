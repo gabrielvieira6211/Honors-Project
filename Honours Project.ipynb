{
 "cells": [
  {
   "cell_type": "markdown",
   "id": "a9b6eee5",
   "metadata": {},
   "source": [
    "# Step 1 - set up equilibrium age structures"
   ]
  },
  {
   "cell_type": "code",
   "execution_count": 1,
   "id": "0dc56b4a",
   "metadata": {},
   "outputs": [],
   "source": [
    "import numpy as np\n",
    "import scipy as sp\n",
    "import matplotlib.pyplot as plt"
   ]
  },
  {
   "cell_type": "code",
   "execution_count": 2,
   "id": "ba897a3b",
   "metadata": {},
   "outputs": [],
   "source": [
    "M = 0.3 #Natural mortality rate in units yr^{-1}\n",
    "m = 10\n",
    "age = np.arange(0, m+2, 1)\n"
   ]
  },
  {
   "cell_type": "markdown",
   "id": "d9a04442",
   "metadata": {},
   "source": [
    "Set up equilibrium equations"
   ]
  },
  {
   "cell_type": "code",
   "execution_count": 3,
   "id": "247a2d7c",
   "metadata": {},
   "outputs": [],
   "source": [
    "N0 = np.zeros(m+1)\n",
    "age_range = np.arange(0, m+1, 1)\n",
    "\n",
    "#solve the eqts A1, A2 for C_{1949, a} = 0\n",
    "\n",
    "N0[0] = 1                     #In equilibrium, N{1949, 0} = R = 1\n",
    "for i in range(1, 11):\n",
    "    N0[i] = N0[i-1]*np.exp(-M) #N{1949, a} = N{1949, a-1}e^{-M} for a = 1 to 9\n",
    "\n",
    "     \n",
    "N0[10] = N0[10]/(1 - np.exp(-M)) #N{1949, 10} = N{1949, 10}/(1 = e^{-M}) "
   ]
  },
  {
   "cell_type": "code",
   "execution_count": 4,
   "id": "6d9c12bf",
   "metadata": {},
   "outputs": [
    {
     "data": {
      "text/plain": [
       "<matplotlib.collections.PathCollection at 0x1cd70e1f220>"
      ]
     },
     "execution_count": 4,
     "metadata": {},
     "output_type": "execute_result"
    },
    {
     "data": {
      "image/png": "[encoded data removed]",
      "text/plain": [
       "<Figure size 432x288 with 1 Axes>"
      ]
     },
     "metadata": {
      "needs_background": "light"
     },
     "output_type": "display_data"
    }
   ],
   "source": [
    "plt.scatter(age_range, N0)"
   ]
  },
  {
   "cell_type": "markdown",
   "id": "3960580e",
   "metadata": {},
   "source": [
    "# Step 2 - Solve for R_{0} and Scale up N0"
   ]
  },
  {
   "cell_type": "code",
   "execution_count": 5,
   "id": "21d57e68",
   "metadata": {},
   "outputs": [],
   "source": [
    "K = 773000 #Eq. Spawning Biomass (B_{sp} in 1949)"
   ]
  },
  {
   "cell_type": "code",
   "execution_count": 6,
   "id": "0049d312",
   "metadata": {},
   "outputs": [],
   "source": [
    "f = [0, 0, 0, 1, 1, 1, 1, 1, 1, 1, 1 ] #knife edge function"
   ]
  },
  {
   "cell_type": "markdown",
   "id": "cac29da9",
   "metadata": {},
   "source": [
    "We have to solve for the weights at age of the fish:"
   ]
  },
  {
   "cell_type": "code",
   "execution_count": 7,
   "id": "c93a80c5",
   "metadata": {},
   "outputs": [],
   "source": [
    "l_infty = 54.56 #asymptotic length\n",
    "kappa = 0.183 #growth rate in year^{-1}\n",
    "sigma = 0.0078\n",
    "mu = 3.011"
   ]
  },
  {
   "cell_type": "code",
   "execution_count": 8,
   "id": "da6cc97e",
   "metadata": {},
   "outputs": [
    {
     "data": {
      "text/plain": [
       "<matplotlib.collections.PathCollection at 0x1cd715aa580>"
      ]
     },
     "execution_count": 8,
     "metadata": {},
     "output_type": "execute_result"
    },
    {
     "data": {
      "image/png": "[encoded data removed]",
      "text/plain": [
       "<Figure size 432x288 with 1 Axes>"
      ]
     },
     "metadata": {
      "needs_background": "light"
     },
     "output_type": "display_data"
    }
   ],
   "source": [
    "l = np.zeros(m+2)\n",
    "for i in range(len(l)):\n",
    "    l[i]= l_infty*(1 - np.exp(-kappa*(i + 0.654)))\n",
    "    \n",
    "plt.scatter(age, l)"
   ]
  },
  {
   "cell_type": "markdown",
   "id": "3b340a82",
   "metadata": {},
   "source": [
    "Now for the weights"
   ]
  },
  {
   "cell_type": "code",
   "execution_count": 9,
   "id": "dd6e9e5b",
   "metadata": {},
   "outputs": [],
   "source": [
    "w = np.zeros(m+2)\n",
    "\n",
    "for i in range(len(w)):\n",
    "    w[i] = sigma*(l[i]**mu)"
   ]
  },
  {
   "cell_type": "code",
   "execution_count": 10,
   "id": "6439c592",
   "metadata": {},
   "outputs": [
    {
     "data": {
      "text/plain": [
       "<matplotlib.collections.PathCollection at 0x1cd716019a0>"
      ]
     },
     "execution_count": 10,
     "metadata": {},
     "output_type": "execute_result"
    },
    {
     "data": {
      "image/png": "[encoded data removed]",
      "text/plain": [
       "<Figure size 432x288 with 1 Axes>"
      ]
     },
     "metadata": {
      "needs_background": "light"
     },
     "output_type": "display_data"
    }
   ],
   "source": [
    "plt.scatter(age, w)"
   ]
  },
  {
   "cell_type": "markdown",
   "id": "bcb78d56",
   "metadata": {},
   "source": [
    "Now for the big sum in equation A.16"
   ]
  },
  {
   "cell_type": "code",
   "execution_count": 11,
   "id": "beb6ca1b",
   "metadata": {},
   "outputs": [],
   "source": [
    "big_sum = 0\n",
    "for a in range(1,m+1):\n",
    "    M_sum = 0    \n",
    "    if a==m:\n",
    "        M_sum = 0\n",
    "        for a_prime in range(0,a):\n",
    "            M_sum = M_sum + M\n",
    "            # print(a_prime)\n",
    "        big_sum = big_sum + f[a]*w[a]*np.exp(-M_sum)/(1-np.exp(-M))\n",
    "    elif a<m:\n",
    "        for a_prime in range(0,a):\n",
    "            M_sum = M_sum + M\n",
    "        big_sum = big_sum + f[a]*w[a]*np.exp(-M_sum)\n",
    "\n"
   ]
  },
  {
   "cell_type": "code",
   "execution_count": null,
   "id": "3e119288",
   "metadata": {},
   "outputs": [],
   "source": []
  },
  {
   "cell_type": "code",
   "execution_count": 12,
   "id": "0ef59b93",
   "metadata": {},
   "outputs": [],
   "source": []
  },
  {
   "cell_type": "code",
   "execution_count": 13,
   "id": "c6b6ae2c",
   "metadata": {},
   "outputs": [],
   "source": []
  },
  {
   "cell_type": "code",
   "execution_count": 14,
   "id": "4fbe03ab",
   "metadata": {},
   "outputs": [
    {
     "name": "stdout",
     "output_type": "stream",
     "text": [
      "631.487275480067\n"
     ]
    }
   ],
   "source": [
    "print(big_sum)"
   ]
  },
  {
   "cell_type": "markdown",
   "id": "87e450ff",
   "metadata": {},
   "source": [
    "So now we can solve for R_{0}:"
   ]
  },
  {
   "cell_type": "code",
   "execution_count": 15,
   "id": "18929197",
   "metadata": {},
   "outputs": [],
   "source": [
    "R0 = K/big_sum"
   ]
  },
  {
   "cell_type": "code",
   "execution_count": 16,
   "id": "2ea30c59",
   "metadata": {},
   "outputs": [
    {
     "name": "stdout",
     "output_type": "stream",
     "text": [
      "1224.0943404795494\n"
     ]
    }
   ],
   "source": [
    "print(R0)"
   ]
  },
  {
   "cell_type": "markdown",
   "id": "78710d66",
   "metadata": {},
   "source": [
    "We now scale up the equilibrium values from step 1 by R0!"
   ]
  },
  {
   "cell_type": "code",
   "execution_count": 17,
   "id": "f55f3122",
   "metadata": {},
   "outputs": [
    {
     "name": "stdout",
     "output_type": "stream",
     "text": [
      "[1224.09434048  906.83139126  671.79721773  497.6796195   368.69013019\n",
      "  273.13236623  202.34143356  149.89822078  111.0473332    82.26588779\n",
      "  235.1402509 ]\n"
     ]
    }
   ],
   "source": [
    "N0 = R0*N0\n",
    "print(N0)"
   ]
  },
  {
   "cell_type": "code",
   "execution_count": 18,
   "id": "7c7e7fec",
   "metadata": {},
   "outputs": [
    {
     "data": {
      "text/plain": [
       "<matplotlib.collections.PathCollection at 0x1cd71662940>"
      ]
     },
     "execution_count": 18,
     "metadata": {},
     "output_type": "execute_result"
    },
    {
     "data": {
      "image/png": "[encoded data removed]",
      "text/plain": [
       "<Figure size 432x288 with 1 Axes>"
      ]
     },
     "metadata": {
      "needs_background": "light"
     },
     "output_type": "display_data"
    }
   ],
   "source": [
    "plt.scatter(age_range, N0)"
   ]
  },
  {
   "cell_type": "markdown",
   "id": "7a08dff5",
   "metadata": {},
   "source": [
    "# Step 3- Calculate Alpha, Beta from A15, A16"
   ]
  },
  {
   "cell_type": "code",
   "execution_count": 19,
   "id": "3f8739bc",
   "metadata": {},
   "outputs": [],
   "source": [
    "h = 0.75 #Steepness of stock-recruit relationship"
   ]
  },
  {
   "cell_type": "code",
   "execution_count": 20,
   "id": "0ea08005",
   "metadata": {},
   "outputs": [
    {
     "name": "stdout",
     "output_type": "stream",
     "text": [
      "1335.3756441595085\n"
     ]
    }
   ],
   "source": [
    "alpha = (4*h*R0)/(5*h -1)  #From eqtn A.15 \n",
    "print(alpha)"
   ]
  },
  {
   "cell_type": "code",
   "execution_count": 21,
   "id": "56e09fec",
   "metadata": {},
   "outputs": [
    {
     "name": "stdout",
     "output_type": "stream",
     "text": [
      "70272.72727272728\n"
     ]
    }
   ],
   "source": [
    "beta = (K*(1 - h))/(5*h-1) #From eqtn A.16\n",
    "print(beta)"
   ]
  },
  {
   "cell_type": "markdown",
   "id": "1adbee93",
   "metadata": {},
   "source": [
    "# Step 4 - Caluclate B^{sp} from eqtn A.11"
   ]
  },
  {
   "cell_type": "code",
   "execution_count": 50,
   "id": "8959f7de",
   "metadata": {},
   "outputs": [],
   "source": [
    "def B_y(N):                   #Calculates spawning biomass in a year given a vector for number at age      \n",
    "    By = 0\n",
    "    for i in range(m+1):\n",
    "        By += f[i]*w[i]*N[i]\n",
    "    return By"
   ]
  },
  {
   "cell_type": "code",
   "execution_count": 51,
   "id": "ea5e2dc5",
   "metadata": {},
   "outputs": [
    {
     "name": "stdout",
     "output_type": "stream",
     "text": [
      "773000.0000000002\n"
     ]
    }
   ],
   "source": [
    "print(B_y(N0))"
   ]
  },
  {
   "cell_type": "markdown",
   "id": "12ed6c87",
   "metadata": {},
   "source": [
    "# Step 5- Calculate Ry from eqn A12"
   ]
  },
  {
   "cell_type": "code",
   "execution_count": 24,
   "id": "d537392f",
   "metadata": {},
   "outputs": [],
   "source": [
    "def R_y(B_y, res = 0):                              #Calculates recruitment for some spawning biomass in year y\n",
    "    Ry = ((alpha*B_y)/(beta + B_y))*np.exp(res)\n",
    "    \n",
    "    return Ry"
   ]
  },
  {
   "cell_type": "code",
   "execution_count": 25,
   "id": "28084a53",
   "metadata": {},
   "outputs": [],
   "source": [
    "R_y_array = np.zeros(2019 - 1949)"
   ]
  },
  {
   "cell_type": "code",
   "execution_count": 26,
   "id": "ace5673d",
   "metadata": {},
   "outputs": [],
   "source": [
    "R_y_array[0] = R0"
   ]
  },
  {
   "cell_type": "code",
   "execution_count": 27,
   "id": "d07c727f",
   "metadata": {},
   "outputs": [
    {
     "name": "stdout",
     "output_type": "stream",
     "text": [
      "1224.0943404795494\n"
     ]
    }
   ],
   "source": [
    "print(R_y(B_y(N0)))  #this looks correct because it equals R0"
   ]
  },
  {
   "cell_type": "markdown",
   "id": "645532dd",
   "metadata": {},
   "source": [
    "# Step 6 - Calculate Exploitable Biomass"
   ]
  },
  {
   "cell_type": "code",
   "execution_count": 28,
   "id": "9a157a49",
   "metadata": {},
   "outputs": [],
   "source": [
    "S_d = [ [0.031846994, 0.324722195, 1.010811598, 1.613619595, 1.750432852, 1.539871974, 1.222136785, 0.930213297, 0.700873124, 0.531055815,\n",
    "       0.408345],[0.256693509, 1.130899563, 1.646709242, 1.385048839, 0.887258232, 0.509085997, 0.286245059, 0.165246792,0.100045816,\n",
    "                  0.063973673,0.043205903]] #S_d[0, :] is Old Gear, S_d[1,: ] is New Gear (from 2004 onward)\n",
    "\n",
    "S_p = [[0, 0,0.3, 1, 0.5, 0.5, 0.25, 0, 0, 0, 0], [0.14, 0.5, 0.4, 0.5, 0.25, 0.25, 0.13, 0, 0, 0, 0], [0.28, 1, 0.5, 0, 0, 0, 0, 0, 0, 0, 0]]\n",
    "#S_p[0, :] is 1949-1962, S_p[1,:] is 1963-1967, S_p[2,:] is 1968+\n",
    "\n",
    "S_m = [0.000448071, 0.082052316, 0.912313145, 2.084072816, 2.085245924, 1.409150807, 0.81268578, 0.451574377, 0.256651557, 0.153260073, 0.097077504]\n"
   ]
  },
  {
   "cell_type": "code",
   "execution_count": 29,
   "id": "db7b9989",
   "metadata": {},
   "outputs": [
    {
     "data": {
      "text/plain": [
       "[<matplotlib.lines.Line2D at 0x1cd716cd4f0>]"
      ]
     },
     "execution_count": 29,
     "metadata": {},
     "output_type": "execute_result"
    },
    {
     "data": {
      "image/png": "[encoded data removed]",
      "text/plain": [
       "<Figure size 432x288 with 1 Axes>"
      ]
     },
     "metadata": {
      "needs_background": "light"
     },
     "output_type": "display_data"
    }
   ],
   "source": [
    "plt.plot(age_range, S_p[0], 'ro--')\n",
    "plt.plot(age_range, S_p[1], 'go--')\n",
    "plt.plot(age_range, S_p[2], 'bo--')"
   ]
  },
  {
   "cell_type": "code",
   "execution_count": 30,
   "id": "2e456dc3",
   "metadata": {},
   "outputs": [
    {
     "data": {
      "text/plain": [
       "[<matplotlib.lines.Line2D at 0x1cd717271f0>]"
      ]
     },
     "execution_count": 30,
     "metadata": {},
     "output_type": "execute_result"
    },
    {
     "data": {
      "image/png": "[encoded data removed]",
      "text/plain": [
       "<Figure size 432x288 with 1 Axes>"
      ]
     },
     "metadata": {
      "needs_background": "light"
     },
     "output_type": "display_data"
    }
   ],
   "source": [
    "plt.plot(age_range, S_d[0], 'ro--')\n",
    "plt.plot(age_range, S_d[1], 'bo--')"
   ]
  },
  {
   "cell_type": "code",
   "execution_count": 31,
   "id": "dea2dd32",
   "metadata": {},
   "outputs": [
    {
     "data": {
      "text/plain": [
       "[<matplotlib.lines.Line2D at 0x1cd717823a0>]"
      ]
     },
     "execution_count": 31,
     "metadata": {},
     "output_type": "execute_result"
    },
    {
     "data": {
      "image/png": "[encoded data removed]",
      "text/plain": [
       "<Figure size 432x288 with 1 Axes>"
      ]
     },
     "metadata": {
      "needs_background": "light"
     },
     "output_type": "display_data"
    }
   ],
   "source": [
    "plt.plot(age_range, S_m, 'ro--')"
   ]
  },
  {
   "cell_type": "code",
   "execution_count": 32,
   "id": "b17d2a3d",
   "metadata": {},
   "outputs": [],
   "source": [
    "def B_f(fleet, year, N_y):      #calculates exploitable biomass in a year given a vector of number at age for that year and the type of fleet\n",
    "    y0 = 1949\n",
    "    \n",
    "    if fleet == 'd':\n",
    "        if (year >= 1949) and (year < 2004):\n",
    "            sel = S_d[0]\n",
    "            ans = 0\n",
    "            for i in range(m+1):\n",
    "                midweight = (w[i] + w[i+1])/2\n",
    "                ans += midweight*sel[i]*N_y[i]*np.exp(-M/2)\n",
    "        elif (year >= 2004):\n",
    "            sel = S_d[1]\n",
    "            ans = 0\n",
    "            for i in range(m+1):\n",
    "                midweight = (w[i] + w[i+1])/2\n",
    "                ans += midweight*sel[i]*N_y[i]*np.exp(-M/2)\n",
    "\n",
    "    elif fleet == 'p':\n",
    "        if (year <= 1962) and (year >= 1949):\n",
    "            sel = S_p[0]\n",
    "            ans = 0\n",
    "            for i in range(m+1):\n",
    "                midweight = (w[i] + w[i+1])/2\n",
    "                ans += midweight*sel[i]*N_y[i]*np.exp(-M/2)\n",
    "                    \n",
    "        elif (year >= 1963) and (year <= 1967):\n",
    "            sel = S_p[1]\n",
    "            ans = 0\n",
    "            for i in range(m+1):\n",
    "                midweight = (w[i] + w[i+1])/2\n",
    "                ans += midweight*sel[i]*N_y[i]*np.exp(-M/2)\n",
    "        elif (year >= 1968):\n",
    "            sel = S_p[2]\n",
    "            ans = 0\n",
    "            for i in range(m+1):\n",
    "                midweight = (w[i] + w[i+1])/2\n",
    "                ans += midweight*sel[i]*N_y[i]*np.exp(-M/2)\n",
    "    \n",
    "    elif fleet == 'm':\n",
    "        sel = S_m\n",
    "        ans = 0\n",
    "        for i in range(m+1):\n",
    "            midweight = (w[i] + w[i+1])/2\n",
    "            ans += midweight*sel[i]*N_y[i]*np.exp(-M/2)\n",
    "    \n",
    "    return ans"
   ]
  },
  {
   "cell_type": "code",
   "execution_count": 33,
   "id": "e6c2a456",
   "metadata": {},
   "outputs": [
    {
     "name": "stdout",
     "output_type": "stream",
     "text": [
      "863388.5808164524\n"
     ]
    }
   ],
   "source": [
    "print(B_f('d', 1949, N0)) #this agrees with what Grant got"
   ]
  },
  {
   "cell_type": "markdown",
   "id": "3c8c3ea0",
   "metadata": {},
   "source": [
    "# Step 7 - Solve for F^{f} from equation A.9"
   ]
  },
  {
   "cell_type": "code",
   "execution_count": 34,
   "id": "af547472",
   "metadata": {},
   "outputs": [],
   "source": [
    "C_p = [3360,49900,98900,102600,85200,118100,78800,45800,84600,56400,17700,62900,38900,66700,23300,24400,55000, 26300,8800,1400,26800,7900,2200,1300,1600,2500,1600,400,1900,3600,4300,400,6100,1100,2100,2800,700,500,2834,6403,25872,7645,582,2057,11651,8207,1986,18920,12654,26680,2057,4503,915,8148,1012,2048,5627,4824,1903,2280,2087,4385,10990,2199,596,2760,2040,1588,1466,967,1044]\n",
    "\n",
    "C_m = [1.00E-05,1.00E-05,1.00E-05,1.00E-05,1.00E-05,1.00E-05,1.00E-05,1.00E-05,1.00E-05,1.00E-05,1.00E-05,1.00E-05,1.00E-05,1.00E-05,1.00E-05,1.00E-05,1.00E-05,1.00E-05,1.00E-05,1.00E-05,1.00E-05,1.00E-05,1.00E-05,1.00E-05,1.00E-05,1.00E-05,1.00E-05,1.00E-05,1.00E-05,1.00E-05,1.00E-05,1.00E-05,1.00E-05,1.00E-05,1.00E-05,1.00E-05,1.00E-05,1.00E-05,1.00E-05,1.00E-05,1.00E-05,1.00E-05,1.00E-05,1.00E-05,1.00E-05,1.00E-05,1.00E-05,1.00E-05,1.00E-05,15769.8,2160.77,15408,19198,11098.47226,25306,27153,28998,18057,25028,23772,29019,30791,29048.46288,22579,28417,10053.03118,7976,11613,17545,22775,15353]\n",
    "\n",
    "C_d = [1.00E-05,445,1105,1226,1456,2550,1926,1334,959,2073,2075,3712,3627,3079,1401,9522,7017,7596,6189,9116,12252,17872,33329,20560,33900,38391,55459,50981,116400,37290,53584.5,39187.5,41215,32176,38332,37969,27278,31378,38571,41482,58205.5,56721.29955,39759.1435,37207.52597,35998,20029.5,10790,31846,34670.5,36278.79654,21579.72715,9228.977402,8813.736107,4863.110874,3562.168326,4933.367342,5280.164393,4132.99023,4811.69777,4449.294927,4128.812833,5595.850227,5228.259958,4941.442171,2695.003339,3087.009933,4747.105611,5230.373962,5703.439322,4625.879504,3145]\n"
   ]
  },
  {
   "cell_type": "code",
   "execution_count": 35,
   "id": "a87d70ef",
   "metadata": {},
   "outputs": [
    {
     "data": {
      "text/plain": [
       "[<matplotlib.lines.Line2D at 0x1cd717ee7c0>]"
      ]
     },
     "execution_count": 35,
     "metadata": {},
     "output_type": "execute_result"
    },
    {
     "data": {
      "image/png": "[encoded data removed]",
      "text/plain": [
       "<Figure size 432x288 with 1 Axes>"
      ]
     },
     "metadata": {
      "needs_background": "light"
     },
     "output_type": "display_data"
    }
   ],
   "source": [
    "time = np.arange(1949, 2020, 1)\n",
    "\n",
    "plt.plot(time, C_p, 'ro--')\n",
    "plt.plot(time, C_m, 'bo--')\n",
    "plt.plot(time, C_d, 'go--')"
   ]
  },
  {
   "cell_type": "code",
   "execution_count": 36,
   "id": "341734fb",
   "metadata": {},
   "outputs": [],
   "source": [
    "def F_f(fleet, year, N_y):   #Proportion of exploitable biomass being caught in a year\n",
    "    y_index = year - 1949\n",
    "    \n",
    "    if fleet == 'p':\n",
    "        catch = C_p\n",
    "    elif fleet == 'm':\n",
    "        catch = C_m\n",
    "    elif fleet == 'd':\n",
    "        catch = C_d\n",
    "        \n",
    "    F_f = catch[y_index]/B_f(fleet, year, N_y)\n",
    "    \n",
    "    return F_f\n",
    "    "
   ]
  },
  {
   "cell_type": "code",
   "execution_count": 37,
   "id": "f28bbaec",
   "metadata": {},
   "outputs": [
    {
     "name": "stdout",
     "output_type": "stream",
     "text": [
      "1.1582270396191282e-11\n"
     ]
    }
   ],
   "source": [
    "print(F_f('d', 1949, N0))"
   ]
  },
  {
   "cell_type": "code",
   "execution_count": 38,
   "id": "f532d3f4",
   "metadata": {},
   "outputs": [
    {
     "data": {
      "text/plain": [
       "1.1582270396191282e-11"
      ]
     },
     "execution_count": 38,
     "metadata": {},
     "output_type": "execute_result"
    }
   ],
   "source": [
    "1.00E-05/B_f('d', 1949, N0)"
   ]
  },
  {
   "cell_type": "markdown",
   "id": "625056e1",
   "metadata": {},
   "source": [
    "# Step 8 - Calculate C^{f,y, a} from equation A.10 "
   ]
  },
  {
   "cell_type": "code",
   "execution_count": 39,
   "id": "fe54d1cf",
   "metadata": {},
   "outputs": [],
   "source": [
    "def C_fya(fleet, year, N_y):\n",
    "    C_fya = np.zeros(m+1)\n",
    "    \n",
    "    if fleet == 'd':\n",
    "        if year < 2004:\n",
    "            sel = S_d[0]\n",
    "        elif year >= 2004:\n",
    "            sel = S_d[1]\n",
    "    elif fleet == 'm':\n",
    "        sel = S_m\n",
    "    elif fleet == 'p':\n",
    "        if year <= 1962:\n",
    "            sel = S_p[0]\n",
    "        elif (year >= 1963) and (year <= 1967):\n",
    "            sel = S_p[1]\n",
    "        elif (year >= 1968):\n",
    "            sel = S_p[2]\n",
    "    \n",
    "    for i in range(m+1):\n",
    "        C_fya[i] = sel[i]*F_f(fleet, year, N_y)*N_y[i]*np.exp(-M/2)\n",
    "        \n",
    "    return C_fya"
   ]
  },
  {
   "cell_type": "code",
   "execution_count": 40,
   "id": "25c393c9",
   "metadata": {},
   "outputs": [
    {
     "name": "stdout",
     "output_type": "stream",
     "text": [
      "[0.         0.         2.61166847 6.44923864 2.38885675 1.7697086\n",
      " 0.65551619 0.         0.         0.         0.        ]\n"
     ]
    }
   ],
   "source": [
    "print(C_fya('p', 1949, N0))"
   ]
  },
  {
   "cell_type": "code",
   "execution_count": 41,
   "id": "f57e545a",
   "metadata": {},
   "outputs": [
    {
     "data": {
      "text/plain": [
       "[<matplotlib.lines.Line2D at 0x1cd7184e580>]"
      ]
     },
     "execution_count": 41,
     "metadata": {},
     "output_type": "execute_result"
    },
    {
     "data": {
      "image/png": "[encoded data removed]",
      "text/plain": [
       "<Figure size 432x288 with 1 Axes>"
      ]
     },
     "metadata": {
      "needs_background": "light"
     },
     "output_type": "display_data"
    }
   ],
   "source": [
    "#plt.plot(age_range, C_fya('d', 2000, N0)/7)\n",
    "plt.plot(age_range, C_fya('p', 1949, N0), 'bo--')"
   ]
  },
  {
   "cell_type": "markdown",
   "id": "971741f4",
   "metadata": {},
   "source": [
    "# Step 9 - Calculate C_{y,a} from equation A.4"
   ]
  },
  {
   "cell_type": "code",
   "execution_count": 42,
   "id": "e075675f",
   "metadata": {},
   "outputs": [],
   "source": [
    "def C_ya(year, N_y):\n",
    "    C_ya = C_fya('p', year, N_y) + C_fya('d', year, N_y) + C_fya('m', year, N_y)\n",
    "    \n",
    "    return C_ya"
   ]
  },
  {
   "cell_type": "code",
   "execution_count": 43,
   "id": "49250d6b",
   "metadata": {},
   "outputs": [
    {
     "name": "stdout",
     "output_type": "stream",
     "text": [
      "6.4492386553168615\n"
     ]
    }
   ],
   "source": [
    "print(C_ya(1949, N0)[3])"
   ]
  },
  {
   "cell_type": "code",
   "execution_count": 44,
   "id": "a14e0f8d",
   "metadata": {},
   "outputs": [
    {
     "data": {
      "text/plain": [
       "[<matplotlib.lines.Line2D at 0x1cd718a3e80>]"
      ]
     },
     "execution_count": 44,
     "metadata": {},
     "output_type": "execute_result"
    },
    {
     "data": {
      "image/png": "[encoded data removed]",
      "text/plain": [
       "<Figure size 432x288 with 1 Axes>"
      ]
     },
     "metadata": {
      "needs_background": "light"
     },
     "output_type": "display_data"
    }
   ],
   "source": [
    "plt.plot(age_range, C_fya('p', 1949, N0) + C_fya('d', 1949, N0) + C_fya('m', 1949, N0), 'rs')\n",
    "plt.plot(age_range, C_ya(1949, N0), 'b')"
   ]
  },
  {
   "cell_type": "markdown",
   "id": "e5a92a09",
   "metadata": {},
   "source": [
    "# Step 10 - Update Equations"
   ]
  },
  {
   "cell_type": "code",
   "execution_count": 45,
   "id": "29851037",
   "metadata": {},
   "outputs": [],
   "source": [
    "N_y_a = []\n",
    "for i in range(1949, 2020):\n",
    "    N_y_a.append(np.zeros(m+1))\n",
    "    \n",
    "N_y_a[0] = N0    #I set up an array of arrays with the first element being the initial number at age we calculated\n"
   ]
  },
  {
   "cell_type": "code",
   "execution_count": null,
   "id": "602a38e0",
   "metadata": {},
   "outputs": [],
   "source": []
  },
  {
   "cell_type": "code",
   "execution_count": 46,
   "id": "9bfcf703",
   "metadata": {},
   "outputs": [],
   "source": [
    "for year in range(1949, 2019):   #These SHOULD BE the update equations\n",
    "    y_index = year - 1949\n",
    "    for a in range(0, m-2):\n",
    "        N_y_a[y_index+1][a+1] = (N_y_a[y_index][a]*np.exp(-M/2) - C_ya(year, N_y_a[y_index])[a])*np.exp(-M/2)\n",
    "    N_y_a[y_index + 1][0] = R_y(B_y(N_y_a[y_index]))\n",
    "    N_y_a[y_index + 1][m] = (N_y_a[y_index][m]*np.exp(-M/2) - C_ya(year, N_y_a[y_index])[a])*np.exp(-M/2) + (N_y_a[y_index][m-1]*np.exp(-M/2) - C_ya(year, N_y_a[y_index])[a])*np.exp(-M/2)\n",
    "\n",
    "    "
   ]
  },
  {
   "cell_type": "code",
   "execution_count": 47,
   "id": "d7ea5c5b",
   "metadata": {},
   "outputs": [],
   "source": [
    "B_sp_overtime = np.zeros(2020-1949)\n",
    "\n",
    "for year in range(1949, 2020):\n",
    "    y_index = year - 1949\n",
    "    B_sp_overtime[y_index] = B_y(N_y_a[y_index])  #array of spawning biomasses"
   ]
  },
  {
   "cell_type": "code",
   "execution_count": 48,
   "id": "c937951b",
   "metadata": {},
   "outputs": [
    {
     "name": "stdout",
     "output_type": "stream",
     "text": [
      "71\n"
     ]
    }
   ],
   "source": [
    "time = np.arange(1949, 2020, 1)\n",
    "print(len(time))"
   ]
  },
  {
   "cell_type": "code",
   "execution_count": 49,
   "id": "75b14033",
   "metadata": {},
   "outputs": [
    {
     "data": {
      "text/plain": [
       "[<matplotlib.lines.Line2D at 0x1cd71905e80>]"
      ]
     },
     "execution_count": 49,
     "metadata": {},
     "output_type": "execute_result"
    },
    {
     "data": {
      "image/png": "[encoded data removed]",
      "text/plain": [
       "<Figure size 432x288 with 1 Axes>"
      ]
     },
     "metadata": {
      "needs_background": "light"
     },
     "output_type": "display_data"
    }
   ],
   "source": [
    "plt.plot(time, B_sp_overtime, 'bo--') #plot comes out very wrong"
   ]
  }
 ],
 "metadata": {
  "kernelspec": {
   "display_name": "Python 3",
   "language": "python",
   "name": "python3"
  },
  "language_info": {
   "codemirror_mode": {
    "name": "ipython",
    "version": 3
   },
   "file_extension": ".py",
   "mimetype": "text/x-python",
   "name": "python",
   "nbconvert_exporter": "python",
   "pygments_lexer": "ipython3",
   "version": "3.8.8"
  }
 },
 "nbformat": 4,
 "nbformat_minor": 5
}
